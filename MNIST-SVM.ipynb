{
 "cells": [
  {
   "cell_type": "markdown",
   "id": "a5d34021",
   "metadata": {},
   "source": [
    "### MNIST Support Vector Machine"
   ]
  },
  {
   "cell_type": "code",
   "execution_count": 15,
   "id": "7564a6ab",
   "metadata": {},
   "outputs": [],
   "source": [
    "import numpy as np\n",
    "import seaborn as sns\n",
    "import pandas as pd\n",
    "import matplotlib.pyplot as plt\n",
    "\n",
    "from sklearn.preprocessing import StandardScaler\n",
    "from sklearn.model_selection import GridSearchCV, train_test_split, StratifiedKFold\n",
    "\n",
    "from sklearn.svm import LinearSVC, SVC\n",
    "from sklearn import datasets\n",
    "from sklearn.metrics import accuracy_score"
   ]
  },
  {
   "cell_type": "code",
   "execution_count": 16,
   "id": "68655dca",
   "metadata": {},
   "outputs": [
    {
     "data": {
      "text/plain": [
       "array([[ 0.,  0.,  5., ...,  0.,  0.,  0.],\n",
       "       [ 0.,  0.,  0., ..., 10.,  0.,  0.],\n",
       "       [ 0.,  0.,  0., ..., 16.,  9.,  0.],\n",
       "       ...,\n",
       "       [ 0.,  0.,  1., ...,  6.,  0.,  0.],\n",
       "       [ 0.,  0.,  2., ..., 12.,  0.,  0.],\n",
       "       [ 0.,  0., 10., ..., 12.,  1.,  0.]])"
      ]
     },
     "execution_count": 16,
     "metadata": {},
     "output_type": "execute_result"
    }
   ],
   "source": [
    "digits =datasets.load_digits()\n",
    "\n",
    "digits.data"
   ]
  },
  {
   "cell_type": "code",
   "execution_count": 17,
   "id": "236d87cd",
   "metadata": {},
   "outputs": [
    {
     "name": "stdout",
     "output_type": "stream",
     "text": [
      "<class 'numpy.ndarray'>\n",
      "(1797, 64)\n",
      "[ 0.  0.  0.  2. 13.  0.  0.  0.  0.  0.  0.  8. 15.  0.  0.  0.  0.  0.\n",
      "  5. 16.  5.  2.  0.  0.  0.  0. 15. 12.  1. 16.  4.  0.  0.  4. 16.  2.\n",
      "  9. 16.  8.  0.  0.  0. 10. 14. 16. 16.  4.  0.  0.  0.  0.  0. 13.  8.\n",
      "  0.  0.  0.  0.  0.  0. 13.  6.  0.  0.]\n"
     ]
    }
   ],
   "source": [
    "print(type (digits.data))\n",
    "print(digits.data.shape)\n",
    "print(digits.data[100])"
   ]
  },
  {
   "cell_type": "code",
   "execution_count": 18,
   "id": "4aa02d2f",
   "metadata": {},
   "outputs": [
    {
     "data": {
      "image/png": "[encoded data removed]",
      "text/plain": [
       "<Figure size 432x288 with 1 Axes>"
      ]
     },
     "metadata": {
      "needs_background": "light"
     },
     "output_type": "display_data"
    }
   ],
   "source": [
    "# Generate heatmap.\n",
    "plt.imshow(\n",
    "    digits.images[100],\n",
    "    cmap=plt.cm.gray_r,\n",
    ");"
   ]
  },
  {
   "cell_type": "markdown",
   "id": "64550052",
   "metadata": {},
   "source": [
    "##### what is the actual class ?"
   ]
  },
  {
   "cell_type": "code",
   "execution_count": 19,
   "id": "b8157de0",
   "metadata": {},
   "outputs": [
    {
     "data": {
      "text/plain": [
       "4"
      ]
     },
     "execution_count": 19,
     "metadata": {},
     "output_type": "execute_result"
    }
   ],
   "source": [
    "digits.target[100]"
   ]
  },
  {
   "cell_type": "markdown",
   "id": "9d9ee920",
   "metadata": {},
   "source": [
    "##### Instantiate X and y variables : in this case, X is our actual data & y is our target "
   ]
  },
  {
   "cell_type": "code",
   "execution_count": 20,
   "id": "045fbaa6",
   "metadata": {},
   "outputs": [],
   "source": [
    "X = digits.data\n",
    "y = digits.target\n",
    "\n",
    "X_train, X_test, y_train, y_test = train_test_split(\n",
    "    X,\n",
    "    y,\n",
    "    test_size=0.33,\n",
    "    random_state=42,\n",
    "    stratify=y\n",
    ")"
   ]
  },
  {
   "cell_type": "markdown",
   "id": "1994c718",
   "metadata": {},
   "source": [
    "##### Instantiate support vector machine to fit , train and test our data."
   ]
  },
  {
   "cell_type": "code",
   "execution_count": 21,
   "id": "c75047f1",
   "metadata": {},
   "outputs": [
    {
     "name": "stdout",
     "output_type": "stream",
     "text": [
      "0.99833748960931\n",
      "0.98989898989899\n"
     ]
    }
   ],
   "source": [
    "svc =SVC()\n",
    "svc.fit(X_train,y_train)\n",
    "\n",
    "print(svc.score(X_train,y_train))\n",
    "print(svc.score(X_test,y_test))"
   ]
  },
  {
   "cell_type": "markdown",
   "id": "a160771e",
   "metadata": {},
   "source": [
    "#### we generate predictions from our testing data "
   ]
  },
  {
   "cell_type": "code",
   "execution_count": 23,
   "id": "74064fd7",
   "metadata": {},
   "outputs": [
    {
     "data": {
      "text/plain": [
       "0.98989898989899"
      ]
     },
     "execution_count": 23,
     "metadata": {},
     "output_type": "execute_result"
    }
   ],
   "source": [
    "\n",
    "y_pred = svc.predict(X_test)\n",
    "accuracy_score(y_test,y_pred)\n"
   ]
  },
  {
   "cell_type": "markdown",
   "id": "fda96077",
   "metadata": {},
   "source": [
    "#### now, let's try to use different hyperparameter values "
   ]
  },
  {
   "cell_type": "code",
   "execution_count": 26,
   "id": "9e2737c5",
   "metadata": {},
   "outputs": [
    {
     "name": "stdout",
     "output_type": "stream",
     "text": [
      "1.0\n",
      "0.98989898989899\n"
     ]
    }
   ],
   "source": [
    "\n",
    "svc_rbf = SVC (\n",
    "\n",
    "    C = 100,\n",
    "    kernel = \"rbf\",\n",
    "    gamma = \"scale\"\n",
    ")\n",
    "\n",
    "\n",
    "svc_rbf.fit(X_train, y_train)\n",
    "print(svc_rbf.score(X_train,y_train))\n",
    "print(svc_rbf.score(X_test,y_test))"
   ]
  },
  {
   "cell_type": "markdown",
   "id": "adc2f40a",
   "metadata": {},
   "source": [
    "#### let's plot out a dataframe to show predicted and actual data"
   ]
  },
  {
   "cell_type": "code",
   "execution_count": 33,
   "id": "a5357399",
   "metadata": {},
   "outputs": [
    {
     "data": {
      "text/html": [
       "<div>\n",
       "<style scoped>\n",
       "    .dataframe tbody tr th:only-of-type {\n",
       "        vertical-align: middle;\n",
       "    }\n",
       "\n",
       "    .dataframe tbody tr th {\n",
       "        vertical-align: top;\n",
       "    }\n",
       "\n",
       "    .dataframe thead th {\n",
       "        text-align: right;\n",
       "    }\n",
       "</style>\n",
       "<table border=\"1\" class=\"dataframe\">\n",
       "  <thead>\n",
       "    <tr style=\"text-align: right;\">\n",
       "      <th></th>\n",
       "      <th>predict</th>\n",
       "      <th>actual</th>\n",
       "    </tr>\n",
       "  </thead>\n",
       "  <tbody>\n",
       "    <tr>\n",
       "      <th>0</th>\n",
       "      <td>6</td>\n",
       "      <td>6</td>\n",
       "    </tr>\n",
       "    <tr>\n",
       "      <th>1</th>\n",
       "      <td>2</td>\n",
       "      <td>2</td>\n",
       "    </tr>\n",
       "    <tr>\n",
       "      <th>2</th>\n",
       "      <td>3</td>\n",
       "      <td>3</td>\n",
       "    </tr>\n",
       "    <tr>\n",
       "      <th>3</th>\n",
       "      <td>2</td>\n",
       "      <td>2</td>\n",
       "    </tr>\n",
       "    <tr>\n",
       "      <th>4</th>\n",
       "      <td>2</td>\n",
       "      <td>2</td>\n",
       "    </tr>\n",
       "  </tbody>\n",
       "</table>\n",
       "</div>"
      ],
      "text/plain": [
       "   predict  actual\n",
       "0        6       6\n",
       "1        2       2\n",
       "2        3       3\n",
       "3        2       2\n",
       "4        2       2"
      ]
     },
     "execution_count": 33,
     "metadata": {},
     "output_type": "execute_result"
    }
   ],
   "source": [
    "result = pd.DataFrame(svc_rbf.predict(X_test), columns =['predict'])\n",
    "result['actual'] = y_test\n",
    "result.head()\n"
   ]
  },
  {
   "cell_type": "markdown",
   "id": "5af4d82d",
   "metadata": {},
   "source": [
    "##### let's find out the indices where predict != actual and print out in an array "
   ]
  },
  {
   "cell_type": "code",
   "execution_count": 35,
   "id": "335f4960",
   "metadata": {},
   "outputs": [
    {
     "data": {
      "text/plain": [
       "Int64Index([56, 154, 223, 328, 347, 373], dtype='int64')"
      ]
     },
     "execution_count": 35,
     "metadata": {},
     "output_type": "execute_result"
    }
   ],
   "source": [
    "false_id = result[result['predict'] != result['actual']].index\n",
    "false_id"
   ]
  },
  {
   "cell_type": "markdown",
   "id": "7c481e6f",
   "metadata": {},
   "source": [
    "#### print images that show actual image then print it's correct data from 'false_id'."
   ]
  },
  {
   "cell_type": "code",
   "execution_count": 38,
   "id": "785706bf",
   "metadata": {},
   "outputs": [],
   "source": [
    "def print_number(index):\n",
    "    plt.imshow(digits.images[index],\n",
    "               cmap=plt.cm.gray_r,\n",
    "               interpolation='nearest')\n",
    "    plt.show()\n",
    "    print(f'The model guessed this was: {result[\"predict\"].iloc[index]}.')\n",
    "    print(f'This actually is: {result[\"actual\"].iloc[index]}.')\n",
    "    print()"
   ]
  },
  {
   "cell_type": "markdown",
   "id": "010de436",
   "metadata": {},
   "source": [
    "#### let's show all the 'false_id' that was trained wrongly."
   ]
  },
  {
   "cell_type": "code",
   "execution_count": 39,
   "id": "2234cd79",
   "metadata": {},
   "outputs": [
    {
     "data": {
      "image/png": "[encoded data removed]",
      "text/plain": [
       "<Figure size 432x288 with 1 Axes>"
      ]
     },
     "metadata": {
      "needs_background": "light"
     },
     "output_type": "display_data"
    },
    {
     "name": "stdout",
     "output_type": "stream",
     "text": [
      "The model guessed this was: 1.\n",
      "This actually is: 8.\n",
      "\n"
     ]
    },
    {
     "data": {
      "image/png": "[encoded data removed]",
      "text/plain": [
       "<Figure size 432x288 with 1 Axes>"
      ]
     },
     "metadata": {
      "needs_background": "light"
     },
     "output_type": "display_data"
    },
    {
     "name": "stdout",
     "output_type": "stream",
     "text": [
      "The model guessed this was: 9.\n",
      "This actually is: 5.\n",
      "\n"
     ]
    },
    {
     "data": {
      "image/png": "[encoded data removed]",
      "text/plain": [
       "<Figure size 432x288 with 1 Axes>"
      ]
     },
     "metadata": {
      "needs_background": "light"
     },
     "output_type": "display_data"
    },
    {
     "name": "stdout",
     "output_type": "stream",
     "text": [
      "The model guessed this was: 4.\n",
      "This actually is: 0.\n",
      "\n"
     ]
    },
    {
     "data": {
      "image/png": "[encoded data removed]",
      "text/plain": [
       "<Figure size 432x288 with 1 Axes>"
      ]
     },
     "metadata": {
      "needs_background": "light"
     },
     "output_type": "display_data"
    },
    {
     "name": "stdout",
     "output_type": "stream",
     "text": [
      "The model guessed this was: 1.\n",
      "This actually is: 8.\n",
      "\n"
     ]
    },
    {
     "data": {
      "image/png": "[encoded data removed]",
      "text/plain": [
       "<Figure size 432x288 with 1 Axes>"
      ]
     },
     "metadata": {
      "needs_background": "light"
     },
     "output_type": "display_data"
    },
    {
     "name": "stdout",
     "output_type": "stream",
     "text": [
      "The model guessed this was: 1.\n",
      "This actually is: 8.\n",
      "\n"
     ]
    },
    {
     "data": {
      "image/png": "[encoded data removed]",
      "text/plain": [
       "<Figure size 432x288 with 1 Axes>"
      ]
     },
     "metadata": {
      "needs_background": "light"
     },
     "output_type": "display_data"
    },
    {
     "name": "stdout",
     "output_type": "stream",
     "text": [
      "The model guessed this was: 7.\n",
      "This actually is: 9.\n",
      "\n"
     ]
    }
   ],
   "source": [
    "for value in false_id:\n",
    "    print_number(value)"
   ]
  }
 ],
 "metadata": {
  "kernelspec": {
   "display_name": "Python 3.9.12 ('base')",
   "language": "python",
   "name": "python3"
  },
  "language_info": {
   "codemirror_mode": {
    "name": "ipython",
    "version": 3
   },
   "file_extension": ".py",
   "mimetype": "text/x-python",
   "name": "python",
   "nbconvert_exporter": "python",
   "pygments_lexer": "ipython3",
   "version": "3.9.12"
  },
  "vscode": {
   "interpreter": {
    "hash": "a0e05950b156e14bfd14a3986910df437e0c0ff6f27fa95973a8b83e252441dd"
   }
  }
 },
 "nbformat": 4,
 "nbformat_minor": 5
}
